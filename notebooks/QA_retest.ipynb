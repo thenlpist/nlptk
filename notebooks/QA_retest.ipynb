{
 "cells": [
  {
   "cell_type": "markdown",
   "id": "309b9e95-5f25-4955-a6f0-131c7c451c9e",
   "metadata": {},
   "source": [
    "## QA Test test"
   ]
  },
  {
   "cell_type": "code",
   "execution_count": 66,
   "id": "3d846fe9-6963-4b73-b475-5f07fc376ada",
   "metadata": {},
   "outputs": [],
   "source": [
    "from collections import Counter\n",
    "import nlptk\n",
    "from nlptk import DictVsText\n",
    "from gliner import GLiNER\n",
    "from pathlib import Path\n",
    "import os\n",
    "from tabulate import tabulate\n",
    "import json\n",
    "import re\n",
    "import copy\n",
    "import time\n",
    "from dataclasses import dataclass\n",
    "import base64\n",
    "import json\n",
    "import tqdm\n",
    "from dataclasses import dataclass\n",
    "from pathlib import Path\n",
    "import pandas as pd\n",
    "import random\n",
    "from nlptk import FileReader\n",
    "from gliner import GLiNER\n",
    "import phonenumbers\n",
    "from phonenumbers import PhoneNumberFormat\n",
    "import requests\n",
    "\n",
    "PORT = \"8001\"\n",
    "HOST = \"10.0.0.105\"\n",
    "BASE_URL = f\"http://{HOST}:{PORT}\"\n",
    "# BASE_URL = f\"http://budgie.local:{PORT}\"\n",
    "\n",
    "\n",
    "@dataclass\n",
    "class Endpoint:\n",
    "    hello = f\"{BASE_URL}/hello\"\n",
    "    static = f\"{BASE_URL}/static\"\n",
    "    parse_resume_text = f\"{BASE_URL}/parse_resume\"\n",
    "    parse_resume_doc = f\"{BASE_URL}/parse_resume_doc\"\n",
    "\n",
    "home = Path.home()\n",
    "data_dir = home.joinpath(\"Data/Jobscan/Resumes/QA_Resumes/May-2025\")\n",
    "\n",
    "paths  = [data_dir.joinpath(x) for x in os.listdir(data_dir) if re.search(\"(.docx|.pdf|.txt)$\", x, re.IGNORECASE)]\n",
    "\n",
    "ignore = [\"Bullets + Hyphens Issue.docx\", \"EmilyKistnerResume copy.pdf\", \"Michelle Hytry Resume 2025.pdf\" \n",
    "         \"Project Development Manager_Sophie Tremblay.txt\", \"Resume_Waleska.docx\",\n",
    "         \"Unicode issue_Patrick Jewell.pdf\", \"Web URL issue_Jennifer Barilla.pdf\",\n",
    "         \"Zach Adams Resume GM.pdf\"]\n",
    "paths = [x for x in paths if not x.name in ignore]\n",
    "paths.sort()\n",
    "iter_paths = iter(paths)\n",
    "\n",
    "\n",
    "country_codes = {\n",
    "    \"Qatar\": \"+974\",\n",
    "    \"Japan\": \"+81\",\n",
    "    \"South Korea\": \"+82\",\n",
    "    \"Bulgaria\": \"+359\"\n",
    "}"
   ]
  },
  {
   "cell_type": "code",
   "execution_count": 49,
   "id": "5af747b6-d879-4150-bf3f-50dda1495040",
   "metadata": {},
   "outputs": [
    {
     "data": {
      "application/vnd.jupyter.widget-view+json": {
       "model_id": "1a302d72b295490a9f21e91553e9ce9c",
       "version_major": 2,
       "version_minor": 0
      },
      "text/plain": [
       "Fetching 5 files:   0%|          | 0/5 [00:00<?, ?it/s]"
      ]
     },
     "metadata": {},
     "output_type": "display_data"
    }
   ],
   "source": [
    "def load_jsonlines(path):\n",
    "    return [json.loads(x) for x in open(path)]\n",
    "\n",
    "def test_parse_resume_doc(path: Path):\n",
    "    filename = path.name\n",
    "    with open(path, \"rb\") as fo:\n",
    "        encoded_string = base64.b64encode(fo.read())\n",
    "\n",
    "    payload = {\"filename\": filename, \"filedata\": encoded_string}\n",
    "    response = requests.post(url=Endpoint.parse_resume_doc, data=payload)\n",
    "    return response\n",
    "\n",
    "def test_parse_resume_txt(text):\n",
    "    data = {\"text\": text}\n",
    "    headers = {\"Content-Type\": \"application/json\"}\n",
    "    response = requests.post(Endpoint.parse_resume_text, headers=headers, data=json.dumps(data))\n",
    "    return response\n",
    "\n",
    "def run(path, problem):\n",
    "    response = test_parse_resume_doc(path)\n",
    "    basics = response.json()[\"jsonresume\"][\"basics\"]\n",
    "    text = response.json()[\"text\"]\n",
    "    lines = [x for x in text.split(\"\\n\") if x.strip()][:10]\n",
    "    top_text = \"\\n\".join(lines)\n",
    "    print(path.name)\n",
    "    print(problem)\n",
    "    print(\"----------\")\n",
    "    print(json.dumps(basics, indent=2))\n",
    "    print(\"\\n ---------- \\n\")\n",
    "    print(top_text)\n",
    "    return top_text\n",
    "\n",
    "nermodel = GLiNER.from_pretrained(\"urchade/gliner_medium-v2.1\")\n",
    "\n",
    "\n",
    "\n",
    "def _guess_country(tel):\n",
    "    country_codes = {\"Qatar\": \"+974\", \"Japan\": \"+81\", \"South Korea\": \"+82\", \"Bulgaria\": \"+359\"}\n",
    "    code_to_country = {\"+974\": \"QA\", \"+81\": \"JP\", \"+82\": \"KR\", \"+359\": \"BG\"}\n",
    "    \"\"\"\n",
    "        \"(+98)\" -> Iran\n",
    "    \"\"\"\n",
    "    code = tel.split()[0]\n",
    "    \n",
    "    if code in code_to_country:\n",
    "        return code_to_country[code]"
   ]
  },
  {
   "cell_type": "code",
   "execution_count": 50,
   "id": "a6a7edc3-5f7c-4cff-a50f-633cf4164c88",
   "metadata": {},
   "outputs": [],
   "source": [
    "problems = {\n",
    "    \"Brand Marketing Rep - Lucas Anderson.docx\": [\"job title\"],\n",
    "    \"Bullets + Hyphens Issue.docx\": [],\n",
    "    \"Emily Zhang.txt\": [\"job title\", \"website\"],\n",
    "    \"EmilyKistnerResume copy.pdf\": [],\n",
    "    \"Financial Services Exec_Kevin.docx\": [\"job title\"],\n",
    "    \"Head of Marketing_Sofia Andersen.txt\": [\"job title\", \"phone\", \"website\"],\n",
    "    \"Michelle Hytry Resume 2025.pdf\": [],\n",
    "    \"Mojo Oloruntobi.pdf\": [\"job title\"],\n",
    "    \"Name Issue_Elena Kim - Product Manager.pdf\": [\"phone\"], #8 - Korea\n",
    "    \"Name issue_Sora Yamamoto - Systems Analyst.pdf\": [\"phone\"], #9 - Japan\n",
    "    \"Project Development Manager_Sophie Tremblay.txt\": [],\n",
    "    \"Resume_Waleska.docx\": [],\n",
    "    \"Tariq El - Renewable Energy Engineer.docx\": [\"phone\"], #12 - Qatar\n",
    "    \"URLs issue_Effat Zaferani.pdf\": [\"linkedin\", \"website\"],\n",
    "    \"Unicode issue_Patrick Jewell.pdf\": [],\n",
    "    \"Unicode_Eleanor Annese.docx\": [\"job title\", \"linkedin\"],\n",
    "    \"Unicode_Travis Glenn.pdf\": [\"name\"],\n",
    "    \"Web URL issue_Jennifer Barilla.pdf\": [],\n",
    "    \"Zach Adams Resume GM.pdf\": [],\n",
    "    \"Zara Nikolov - Sustainability Consultant.pdf\": [\"phone\"] #19 - Bulgaria\n",
    "}"
   ]
  },
  {
   "cell_type": "code",
   "execution_count": 75,
   "id": "d23911d6-d050-4a66-9fdb-164c906aa89d",
   "metadata": {},
   "outputs": [
    {
     "data": {
      "text/plain": [
       "['Brand Marketing Rep - Lucas Anderson.docx',\n",
       " 'Emily Zhang.txt',\n",
       " 'Financial Services Exec_Kevin.docx',\n",
       " 'Head of Marketing_Sofia Andersen.txt',\n",
       " 'Michelle Hytry Resume 2025.pdf',\n",
       " 'Mojo Oloruntobi.pdf',\n",
       " 'Name Issue_Elena Kim - Product Manager.pdf',\n",
       " 'Name issue_Sora Yamamoto - Systems Analyst.pdf',\n",
       " 'Project Development Manager_Sophie Tremblay.txt',\n",
       " 'Tariq El - Renewable Energy Engineer.docx',\n",
       " 'URLs issue_Effat Zaferani.pdf',\n",
       " 'Unicode_Eleanor Annese.docx',\n",
       " 'Unicode_Travis Glenn.pdf',\n",
       " 'Zara Nikolov - Sustainability Consultant.pdf']"
      ]
     },
     "execution_count": 75,
     "metadata": {},
     "output_type": "execute_result"
    }
   ],
   "source": [
    "[p.name for p in paths]"
   ]
  },
  {
   "cell_type": "code",
   "execution_count": 88,
   "id": "e35055a9-e4bb-4389-9a4a-9aa6c23b1341",
   "metadata": {},
   "outputs": [
    {
     "name": "stdout",
     "output_type": "stream",
     "text": [
      "Zara Nikolov - Sustainability Consultant.pdf\n",
      "['phone']\n",
      "----------\n",
      "{\n",
      "  \"name\": \"Zara Nikolov\",\n",
      "  \"label\": \"Sustainability Consultant\",\n",
      "  \"email\": \"zara.nikolov@email.com\",\n",
      "  \"website\": \"\",\n",
      "  \"phone\": \"088 924 1573\",\n",
      "  \"url\": \"www.linkedin.com/in/zara-nikolov\",\n",
      "  \"summary\": \"\",\n",
      "  \"location\": {},\n",
      "  \"profiles\": [\n",
      "    {\n",
      "      \"url\": \"\",\n",
      "      \"network\": \"Linkedin\",\n",
      "      \"username\": \"\"\n",
      "    },\n",
      "    {\n",
      "      \"url\": \"\",\n",
      "      \"network\": \"Github\",\n",
      "      \"username\": \"\"\n",
      "    },\n",
      "    {\n",
      "      \"url\": \"\",\n",
      "      \"network\": \"Github\",\n",
      "      \"username\": \"\"\n",
      "    },\n",
      "    {\n",
      "      \"url\": \"www.zaranikolov.com\",\n",
      "      \"network\": \"\",\n",
      "      \"username\": \"\"\n",
      "    },\n",
      "    {\n",
      "      \"url\": \"www.medium.com/@zaranikolov\",\n",
      "      \"network\": \"\",\n",
      "      \"username\": \"\"\n",
      "    },\n",
      "    {\n",
      "      \"url\": \"www.github.com/zaranikolov\",\n",
      "      \"network\": \"\",\n",
      "      \"username\": \"\"\n",
      "    }\n",
      "  ]\n",
      "}\n",
      "\n",
      " ---------- \n",
      "\n",
      " Zara Nikolov\n",
      "Sustainability Consultant\n",
      "Pravda Street 14, Apt 7B ,Sofia, Bulgaria 1000 | zara.nikolov@email.com | +359 88 924 1573\n",
      "LinkedIn: www.linkedin.com/in/zara-nikolov Portfolio: www.zaranikolov.com\n",
      "GitHub: www.github.com/zaranikolov Blog: www.medium.com/@zaranikolov\n",
      "Driven and resourceful sustainability professional with 8+ years of experience advising corporations, municipalities, and nonprofits on ESG strategy, environmental compliance, and green transformation. Specialized in carbon footprint reduction, waste management systems, and CSR reporting. Adept in stakeholder engagement and lifecycle assessment with a mission to align business operations with sustainable development goals.\n",
      " Work Experience\n",
      "Environmental Data Analyst GreenWave Analytics Plovdiv, Bulgaria | May 2020 – Present Managed environmental impact assessments and carbon emissions tracking across industrial projects.\n",
      " Implemented company-wide data dashboards, improving emissions visibility by 45%\n",
      " Led greenhouse gas inventory preparation for 8 manufacturing clients\n"
     ]
    }
   ],
   "source": [
    "# path = next(iter_paths)\n",
    "path = paths[-1]\n",
    "top_text = run(path, problems[path.name])"
   ]
  },
  {
   "cell_type": "code",
   "execution_count": 89,
   "id": "0444e977-9a26-4808-8d32-fe05bcd1d9b2",
   "metadata": {},
   "outputs": [
    {
     "data": {
      "text/plain": [
       "[{'start': 14,\n",
       "  'end': 39,\n",
       "  'text': 'Sustainability Consultant',\n",
       "  'label': 'JobTitle',\n",
       "  'score': 0.7380045056343079},\n",
       " {'start': 718,\n",
       "  'end': 744,\n",
       "  'text': 'Environmental Data Analyst',\n",
       "  'label': 'JobTitle',\n",
       "  'score': 0.5920465588569641}]"
      ]
     },
     "execution_count": 89,
     "metadata": {},
     "output_type": "execute_result"
    }
   ],
   "source": [
    "labels = [\"JobTitle\"]\n",
    "entities = nermodel.predict_entities(top_text, labels, threshold=0.57)\n",
    "entities"
   ]
  },
  {
   "cell_type": "code",
   "execution_count": 90,
   "id": "4817edcf-429f-4c60-9196-bd99f0e9aa97",
   "metadata": {},
   "outputs": [
    {
     "data": {
      "text/plain": [
       "'+359 88 924 1573'"
      ]
     },
     "execution_count": 90,
     "metadata": {},
     "output_type": "execute_result"
    }
   ],
   "source": [
    "m = re.search(r\"[\\+\\(]?[1-9][0-9 .\\-\\(\\)]{8,}[0-9]\", top_text)\n",
    "tel = m.group()\n",
    "tel\n",
    "             "
   ]
  },
  {
   "cell_type": "code",
   "execution_count": 91,
   "id": "8d3830c2-07ee-49bd-8bde-87abac664974",
   "metadata": {},
   "outputs": [
    {
     "data": {
      "text/plain": [
       "'BG'"
      ]
     },
     "execution_count": 91,
     "metadata": {},
     "output_type": "execute_result"
    }
   ],
   "source": [
    "_guess_country(tel)"
   ]
  },
  {
   "cell_type": "code",
   "execution_count": 92,
   "id": "16d9fcdd-fddf-4c20-8807-c87151c23c8b",
   "metadata": {},
   "outputs": [
    {
     "data": {
      "text/plain": [
       "'+359 88 924 1573'"
      ]
     },
     "execution_count": 92,
     "metadata": {},
     "output_type": "execute_result"
    }
   ],
   "source": [
    "format = PhoneNumberFormat.INTERNATIONAL\n",
    "parsed_number = phonenumbers.parse(tel, \"BG\")\n",
    "parsed_number\n",
    "normalized_number = phonenumbers.format_number(parsed_number, format)\n",
    "normalized_number"
   ]
  },
  {
   "cell_type": "code",
   "execution_count": null,
   "id": "9e961cc7-9662-4c7e-8e63-c272678d824d",
   "metadata": {},
   "outputs": [],
   "source": []
  },
  {
   "cell_type": "code",
   "execution_count": null,
   "id": "09b0f65b-1e0e-4375-9844-2cac73c2f29c",
   "metadata": {},
   "outputs": [],
   "source": []
  }
 ],
 "metadata": {
  "kernelspec": {
   "display_name": "Python 3 (ipykernel)",
   "language": "python",
   "name": "python3"
  },
  "language_info": {
   "codemirror_mode": {
    "name": "ipython",
    "version": 3
   },
   "file_extension": ".py",
   "mimetype": "text/x-python",
   "name": "python",
   "nbconvert_exporter": "python",
   "pygments_lexer": "ipython3",
   "version": "3.12.8"
  }
 },
 "nbformat": 4,
 "nbformat_minor": 5
}
